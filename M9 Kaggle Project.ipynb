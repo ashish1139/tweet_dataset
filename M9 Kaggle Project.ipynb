{
 "cells": [
  {
   "cell_type": "markdown",
   "id": "5539cf44-050c-4c42-8af4-bc8e9bd79539",
   "metadata": {},
   "source": [
    "# M9 Project: Kaggle Competition"
   ]
  },
  {
   "cell_type": "markdown",
   "id": "1defaad8-030e-476e-b608-1515356ec6df",
   "metadata": {},
   "source": [
    "**Dataset Description**"
   ]
  },
  {
   "cell_type": "markdown",
   "id": "56886db7-58f7-4569-b661-b8a3a4de1a1b",
   "metadata": {},
   "source": [
    "**Files**\n",
    "  \n",
    "* train.csv - the training set\n",
    "* test.csv - the test set\n",
    "\n",
    "**Columns**\n",
    "\n",
    "* id - a unique identifier for each tweet\n",
    "* text - the text of the tweet\n",
    "* location - the location the tweet was sent from (may be blank)\n",
    "* keyword - a particular keyword from the tweet (may be blank)\n",
    "* target - in train.csv only, this denotes whether a tweet is about a real disaster (1) or not (0)"
   ]
  },
  {
   "cell_type": "markdown",
   "id": "42a6ffe6-c073-457e-b5a1-e8297727b93c",
   "metadata": {},
   "source": [
    "In this project, I will use different models for predicting whether a given tweet is about a real disaster or not. If so, predict a 1. If not, predict a 0, i.e., a binary target class. Finally, I will choose the best one with an explanation."
   ]
  },
  {
   "cell_type": "markdown",
   "id": "186afd94-b1a2-4c49-9101-aabb6c8f291e",
   "metadata": {},
   "source": [
    "# Step 1: Understanding the datasets"
   ]
  },
  {
   "cell_type": "code",
   "execution_count": 6,
   "id": "b42ad7ba-2ab0-4e23-85dd-a4109983fed1",
   "metadata": {},
   "outputs": [],
   "source": [
    "# Import packages for data manipulation\n",
    "import numpy as np\n",
    "import pandas as pd\n",
    "\n",
    "# Import packages for data visualization\n",
    "import matplotlib.pyplot as plt\n",
    "\n",
    "# This lets us see all of the columns, preventing Juptyer from redacting them.\n",
    "pd.set_option('display.max_columns', None)"
   ]
  },
  {
   "cell_type": "markdown",
   "id": "a0de1906-03b0-4d98-a39e-3cb34015e1fc",
   "metadata": {},
   "source": [
    "**Train dataset**"
   ]
  },
  {
   "cell_type": "code",
   "execution_count": 8,
   "id": "3fed4440-d78c-4b72-b153-bc21c258ff38",
   "metadata": {},
   "outputs": [],
   "source": [
    "# Import train dataset\n",
    "df_train = pd.read_csv('C:/Users/ASUS/Ashish/M9 - Project/train.csv')"
   ]
  },
  {
   "cell_type": "code",
   "execution_count": 9,
   "id": "d7c1df97-a9da-43e0-a115-8a6fb18d61a2",
   "metadata": {},
   "outputs": [
    {
     "name": "stdout",
     "output_type": "stream",
     "text": [
      "   id keyword location                                               text  \\\n",
      "0   1     NaN      NaN  Our Deeds are the Reason of this #earthquake M...   \n",
      "1   4     NaN      NaN             Forest fire near La Ronge Sask. Canada   \n",
      "2   5     NaN      NaN  All residents asked to 'shelter in place' are ...   \n",
      "3   6     NaN      NaN  13,000 people receive #wildfires evacuation or...   \n",
      "4   7     NaN      NaN  Just got sent this photo from Ruby #Alaska as ...   \n",
      "\n",
      "   target  \n",
      "0       1  \n",
      "1       1  \n",
      "2       1  \n",
      "3       1  \n",
      "4       1  \n"
     ]
    }
   ],
   "source": [
    "print(df_train.head())"
   ]
  },
  {
   "cell_type": "code",
   "execution_count": 10,
   "id": "d206e301-265b-419a-909a-34f94f423c48",
   "metadata": {},
   "outputs": [
    {
     "name": "stdout",
     "output_type": "stream",
     "text": [
      "(7613, 5)\n"
     ]
    }
   ],
   "source": [
    "print(df_train.shape)"
   ]
  },
  {
   "cell_type": "code",
   "execution_count": 11,
   "id": "d6caee16-0d4e-48e8-810c-402dd79b5733",
   "metadata": {},
   "outputs": [
    {
     "name": "stdout",
     "output_type": "stream",
     "text": [
      "<class 'pandas.core.frame.DataFrame'>\n",
      "RangeIndex: 7613 entries, 0 to 7612\n",
      "Data columns (total 5 columns):\n",
      " #   Column    Non-Null Count  Dtype \n",
      "---  ------    --------------  ----- \n",
      " 0   id        7613 non-null   int64 \n",
      " 1   keyword   7552 non-null   object\n",
      " 2   location  5080 non-null   object\n",
      " 3   text      7613 non-null   object\n",
      " 4   target    7613 non-null   int64 \n",
      "dtypes: int64(2), object(3)\n",
      "memory usage: 297.5+ KB\n",
      "None\n"
     ]
    }
   ],
   "source": [
    "print(df_train.info())"
   ]
  },
  {
   "cell_type": "code",
   "execution_count": 12,
   "id": "4884f004-e00a-4797-8e08-a4cec429cd71",
   "metadata": {},
   "outputs": [
    {
     "name": "stdout",
     "output_type": "stream",
     "text": [
      "Number of whether a given tweet is about a real disaster or not:  text\n",
      "11-Year-Old Boy Charged With Manslaughter of Toddler: Report: An 11-year-old boy has been charged with manslaughter over the fatal sh...        10\n",
      "He came to a land which was engulfed in tribal war and turned it into a land of peace i.e. Madinah. #ProphetMuhammad #islam                      6\n",
      "The Prophet (peace be upon him) said 'Save yourself from Hellfire even if it is by giving half a date in charity.'                               6\n",
      "#Bestnaijamade: 16yr old PKK suicide bomber who detonated bomb in ... http://t.co/KSAwlYuX02 bestnaijamade bestnaijamade bestnaijamade beÛ_     6\n",
      "Madhya Pradesh Train Derailment: Village Youth Saved Many Lives                                                                                  5\n",
      "                                                                                                                                                ..\n",
      "Escape The Heat (and the #ORShow) for a trail run on Desolation Loop you'll be glad you did http://t.co/n2ucNzh38P http://t.co/VU8fWYMw5r        1\n",
      "Hey girl you must be Toe Hobbit: Part Two: ghe Desolation of Smaug because I'm not interested in seeing you. Sorry.                              1\n",
      "Emotional Desolation the effect of alcoholism/addiction on family - http://t.co/31tGtLz3YA Forgiving is hard http://t.co/C7rcO2eMwF              1\n",
      "Fotoset: elanorofrohan: 10th December 2013 Green Carpet in Zurich for the Swiss Premiere of The Desolation... http://t.co/BQ3P7n7w06             1\n",
      "The Latest: More Homes Razed by Northern California Wildfire - ABC News http://t.co/YmY4rSkQ3d                                                   1\n",
      "Name: count, Length: 7503, dtype: int64\n"
     ]
    }
   ],
   "source": [
    "# Find the number of positive and negative reviews\n",
    "print('Number of whether a given tweet is about a real disaster or not: ', df_train.text.value_counts())"
   ]
  },
  {
   "cell_type": "code",
   "execution_count": 13,
   "id": "4272485b-5968-4e1f-9382-a17cbac77c61",
   "metadata": {},
   "outputs": [
    {
     "name": "stdout",
     "output_type": "stream",
     "text": [
      "Proportion of whether a given tweet is about a real disaster or not:  text\n",
      "11-Year-Old Boy Charged With Manslaughter of Toddler: Report: An 11-year-old boy has been charged with manslaughter over the fatal sh...        0.001314\n",
      "He came to a land which was engulfed in tribal war and turned it into a land of peace i.e. Madinah. #ProphetMuhammad #islam                     0.000788\n",
      "The Prophet (peace be upon him) said 'Save yourself from Hellfire even if it is by giving half a date in charity.'                              0.000788\n",
      "#Bestnaijamade: 16yr old PKK suicide bomber who detonated bomb in ... http://t.co/KSAwlYuX02 bestnaijamade bestnaijamade bestnaijamade beÛ_    0.000788\n",
      "Madhya Pradesh Train Derailment: Village Youth Saved Many Lives                                                                                 0.000657\n",
      "                                                                                                                                                  ...   \n",
      "Escape The Heat (and the #ORShow) for a trail run on Desolation Loop you'll be glad you did http://t.co/n2ucNzh38P http://t.co/VU8fWYMw5r       0.000131\n",
      "Hey girl you must be Toe Hobbit: Part Two: ghe Desolation of Smaug because I'm not interested in seeing you. Sorry.                             0.000131\n",
      "Emotional Desolation the effect of alcoholism/addiction on family - http://t.co/31tGtLz3YA Forgiving is hard http://t.co/C7rcO2eMwF             0.000131\n",
      "Fotoset: elanorofrohan: 10th December 2013 Green Carpet in Zurich for the Swiss Premiere of The Desolation... http://t.co/BQ3P7n7w06            0.000131\n",
      "The Latest: More Homes Razed by Northern California Wildfire - ABC News http://t.co/YmY4rSkQ3d                                                  0.000131\n",
      "Name: count, Length: 7503, dtype: float64\n"
     ]
    }
   ],
   "source": [
    "# Find the proportion of positive and negative reviews\n",
    "print('Proportion of whether a given tweet is about a real disaster or not: ', df_train.text.value_counts() / len(df_train))"
   ]
  },
  {
   "cell_type": "markdown",
   "id": "240e8cab-101f-4ecf-b0f0-91009336e07c",
   "metadata": {},
   "source": [
    "**Longest tweet**"
   ]
  },
  {
   "cell_type": "code",
   "execution_count": 15,
   "id": "fad67156-c0c1-42d4-9a83-0ba9bceaa6dd",
   "metadata": {},
   "outputs": [
    {
     "name": "stdout",
     "output_type": "stream",
     "text": [
      "157\n"
     ]
    }
   ],
   "source": [
    "length_text = df_train.text.str.len()\n",
    "\n",
    "# How long is the longest review\n",
    "print(max(length_text))"
   ]
  },
  {
   "cell_type": "markdown",
   "id": "15a841eb-4523-4885-b4f2-9d29864f5be9",
   "metadata": {},
   "source": [
    "**Polarity and Subjectivity analysis**"
   ]
  },
  {
   "cell_type": "code",
   "execution_count": 17,
   "id": "942611a3-b51c-4107-bcfb-895961b76d01",
   "metadata": {},
   "outputs": [
    {
     "name": "stdout",
     "output_type": "stream",
     "text": [
      "Polarity: 0.08115547284332265, Subjectivity: 0.4811365706443649\n"
     ]
    }
   ],
   "source": [
    "# Import the required packages\n",
    "from textblob import TextBlob\n",
    "\n",
    "# Assuming df_train['text'] is a pandas Series containing text data\n",
    "# Combine all text into a single string\n",
    "combined_text = \" \".join(df_train['text'].astype(str))\n",
    "\n",
    "# Create a TextBlob object\n",
    "blob_df_train = TextBlob(combined_text)\n",
    "\n",
    "# Print out the sentiment\n",
    "print(f\"Polarity: {blob_df_train.sentiment.polarity}, Subjectivity: {blob_df_train.sentiment.subjectivity}\")"
   ]
  },
  {
   "cell_type": "markdown",
   "id": "cfa9016a-c2d3-4fe6-8770-3302910e9ed8",
   "metadata": {},
   "source": [
    "* Polarity ~ 0.0811 suggests that the tweet may contain mild positive words or phrases.\n",
    "* Subjectivity ~ 0.4811 indicates the tweets have a balanced mix of objectivity and subjectivity."
   ]
  },
  {
   "cell_type": "code",
   "execution_count": 19,
   "id": "be07028b-adc5-47c3-bc8f-f189b4e17546",
   "metadata": {},
   "outputs": [
    {
     "name": "stdout",
     "output_type": "stream",
     "text": [
      "14.903585971364771\n"
     ]
    }
   ],
   "source": [
    "# Function that returns number of words in a string\n",
    "def count_words(string):\n",
    "\t# Split the string into words\n",
    "    words = string.split()\n",
    "    \n",
    "    # Return the number of words\n",
    "    return len(words)\n",
    "\n",
    "# Create a new feature word_count\n",
    "df_train['word_count_train'] = df_train['text'].apply(count_words)\n",
    "\n",
    "# Print the average word count of the talks\n",
    "print(df_train['word_count_train'].mean())"
   ]
  },
  {
   "cell_type": "markdown",
   "id": "94aabc6a-0afd-47bf-95da-8ca083be36dd",
   "metadata": {},
   "source": [
    "**Test dataset**"
   ]
  },
  {
   "cell_type": "code",
   "execution_count": 21,
   "id": "3b81d96d-1c26-4f55-a4ae-219e76c95e2c",
   "metadata": {},
   "outputs": [],
   "source": [
    "# Import train dataset\n",
    "df_test = pd.read_csv('C:/Users/ASUS/Ashish/M9 - Project/test.csv')"
   ]
  },
  {
   "cell_type": "code",
   "execution_count": 22,
   "id": "9e190ce3-43cb-4b04-9a0c-13b48c4bb37e",
   "metadata": {},
   "outputs": [
    {
     "name": "stdout",
     "output_type": "stream",
     "text": [
      "   id keyword location                                               text\n",
      "0   0     NaN      NaN                 Just happened a terrible car crash\n",
      "1   2     NaN      NaN  Heard about #earthquake is different cities, s...\n",
      "2   3     NaN      NaN  there is a forest fire at spot pond, geese are...\n",
      "3   9     NaN      NaN           Apocalypse lighting. #Spokane #wildfires\n",
      "4  11     NaN      NaN      Typhoon Soudelor kills 28 in China and Taiwan\n"
     ]
    }
   ],
   "source": [
    "print(df_test.head())"
   ]
  },
  {
   "cell_type": "code",
   "execution_count": 23,
   "id": "5b347783-3d89-447f-bda0-f6e30c8e6d7e",
   "metadata": {},
   "outputs": [
    {
     "name": "stdout",
     "output_type": "stream",
     "text": [
      "(3263, 4)\n"
     ]
    }
   ],
   "source": [
    "print(df_test.shape)"
   ]
  },
  {
   "cell_type": "code",
   "execution_count": 24,
   "id": "6f38e3e4-fc9f-43d4-a8d1-7c85d39f1fdb",
   "metadata": {},
   "outputs": [
    {
     "name": "stdout",
     "output_type": "stream",
     "text": [
      "<class 'pandas.core.frame.DataFrame'>\n",
      "RangeIndex: 3263 entries, 0 to 3262\n",
      "Data columns (total 4 columns):\n",
      " #   Column    Non-Null Count  Dtype \n",
      "---  ------    --------------  ----- \n",
      " 0   id        3263 non-null   int64 \n",
      " 1   keyword   3237 non-null   object\n",
      " 2   location  2158 non-null   object\n",
      " 3   text      3263 non-null   object\n",
      "dtypes: int64(1), object(3)\n",
      "memory usage: 102.1+ KB\n",
      "None\n"
     ]
    }
   ],
   "source": [
    "print(df_test.info())"
   ]
  },
  {
   "cell_type": "code",
   "execution_count": 25,
   "id": "6d5bed00-03cd-4bf8-b3cc-e556f0e0bcc9",
   "metadata": {},
   "outputs": [
    {
     "name": "stdout",
     "output_type": "stream",
     "text": [
      "14.965369292062519\n"
     ]
    }
   ],
   "source": [
    "# Function that returns number of words in a string\n",
    "def count_words(string):\n",
    "\t# Split the string into words\n",
    "    words = string.split()\n",
    "    \n",
    "    # Return the number of words\n",
    "    return len(words)\n",
    "\n",
    "# Create a new feature word_count\n",
    "df_test['word_count_test'] = df_test['text'].apply(count_words)\n",
    "\n",
    "# Print the average word count of the talks\n",
    "print(df_test['word_count_test'].mean())"
   ]
  },
  {
   "cell_type": "code",
   "execution_count": 26,
   "id": "b17f7550-d03f-4235-8fbe-091c22c4d3a6",
   "metadata": {},
   "outputs": [
    {
     "data": {
      "image/png": "[encoded data removed]",
      "text/plain": [
       "<Figure size 640x480 with 1 Axes>"
      ]
     },
     "metadata": {},
     "output_type": "display_data"
    }
   ],
   "source": [
    "df_train['word_count_train'].hist()\n",
    "plt.title('Word count of text distribution of train dataset')\n",
    "plt.show()"
   ]
  },
  {
   "cell_type": "code",
   "execution_count": 27,
   "id": "228e0f57-6308-4996-a9fa-6c286a6f88fb",
   "metadata": {},
   "outputs": [
    {
     "data": {
      "image/png": "[encoded data removed]",
      "text/plain": [
       "<Figure size 640x480 with 1 Axes>"
      ]
     },
     "metadata": {},
     "output_type": "display_data"
    }
   ],
   "source": [
    "df_test['word_count_test'].hist()\n",
    "plt.title('Word count of text distribution of test dataset')\n",
    "plt.show()"
   ]
  },
  {
   "cell_type": "markdown",
   "id": "66f64f1a-a98b-465f-b86b-cbdee9763d44",
   "metadata": {},
   "source": [
    "# 1.1 Key Findings of the train and test datasets"
   ]
  },
  {
   "cell_type": "markdown",
   "id": "bb738afc-5ec4-4d20-b0eb-bf28f94ed1e4",
   "metadata": {},
   "source": [
    "**Training Data (df_train):** Contains 7613 rows and 5 columns (id, keyword, location, text, target)."
   ]
  },
  {
   "cell_type": "markdown",
   "id": "6d444f42-bfa1-4b5f-9f17-d7dc038eb73c",
   "metadata": {},
   "source": [
    "* target: Binary variable indicating whether a tweet is about a real disaster (1) or not (0).\n",
    "* keyword and location columns have missing values.\n",
    "* Average word count: ~14.9 words per tweet."
   ]
  },
  {
   "cell_type": "markdown",
   "id": "1fce5ade-02de-4220-b726-3b6cc594515d",
   "metadata": {},
   "source": [
    "**Test Data (df_test):** Contains 3263 rows and 4 columns (no target column)."
   ]
  },
  {
   "cell_type": "markdown",
   "id": "3a1ebc74-1b23-47f5-a51b-1d462649e2c3",
   "metadata": {},
   "source": [
    "* Average word count: ~14.96 words per tweet."
   ]
  },
  {
   "cell_type": "markdown",
   "id": "4800c755-6d42-4eb9-908c-27511133e1af",
   "metadata": {},
   "source": [
    "**Both datasets have the same text distribution**"
   ]
  },
  {
   "cell_type": "markdown",
   "id": "046c65db-6722-402a-9e0a-ef5c56ff180c",
   "metadata": {},
   "source": [
    "# Step 2: Preprocessing the datasets\n",
    "\n",
    "Preprocess the text column for both df_train and df_test to clean and standardize the data."
   ]
  },
  {
   "cell_type": "code",
   "execution_count": 35,
   "id": "9776dadc-e65f-45f9-b756-cc3bec9b2085",
   "metadata": {},
   "outputs": [
    {
     "name": "stderr",
     "output_type": "stream",
     "text": [
      "[nltk_data] Downloading package stopwords to\n",
      "[nltk_data]     C:\\Users\\ASUS\\AppData\\Roaming\\nltk_data...\n",
      "[nltk_data]   Package stopwords is already up-to-date!\n"
     ]
    }
   ],
   "source": [
    "import spacy\n",
    "from nltk.corpus import stopwords\n",
    "import nltk\n",
    "from textblob import TextBlob\n",
    "\n",
    "# Download NLTK stopwords\n",
    "nltk.download('stopwords')\n",
    "\n",
    "# Load spaCy model and stopwords\n",
    "nlp = spacy.load('en_core_web_sm')\n",
    "stop_words = set(stopwords.words('english'))\n",
    "\n",
    "# Preprocessing function\n",
    "def preprocess(text):\n",
    "    doc = nlp(text.lower())  # Lowercase\n",
    "    lemmas = [token.lemma_ for token in doc if token.is_alpha and token.lemma_ not in stop_words]\n",
    "    return ' '.join(lemmas)\n",
    "\n",
    "# Apply preprocessing\n",
    "df_train['cleaned_text'] = df_train['text'].apply(preprocess)\n",
    "df_test['cleaned_text'] = df_test['text'].apply(preprocess)"
   ]
  },
  {
   "cell_type": "markdown",
   "id": "212fc105-0c82-4be3-91a5-7f170fb75e04",
   "metadata": {},
   "source": [
    "# Step 3: Feature Engineering"
   ]
  },
  {
   "cell_type": "markdown",
   "id": "dadc92f6-6b63-4eb6-bd85-9dde1bcd08b7",
   "metadata": {},
   "source": [
    "Add features like:\n",
    "\n",
    "* word_count: Number of words in the tweet.\n",
    "* has_hashtag: Whether the tweet contains a hashtag (#).\n",
    "* has_mention: Whether the tweet contains a mention (@).\n",
    "* uppercase_count: Count of uppercase words.\n",
    "* sentiment: Sentiment polarity of the tweet."
   ]
  },
  {
   "cell_type": "code",
   "execution_count": 38,
   "id": "80a27ce6-ebe3-4531-9a21-59d382c81576",
   "metadata": {},
   "outputs": [],
   "source": [
    "def add_features(df):\n",
    "    df['word_count'] = df['cleaned_text'].apply(lambda x: len(x.split()))\n",
    "    df['has_hashtag'] = df['cleaned_text'].str.contains('#').astype(int)\n",
    "    df['has_mention'] = df['cleaned_text'].str.contains('@').astype(int)\n",
    "    df['uppercase_count'] = df['cleaned_text'].apply(lambda x: sum(1 for word in x.split() if word.isupper()))\n",
    "    df['sentiment'] = df['cleaned_text'].apply(lambda x: TextBlob(x).sentiment.polarity)\n",
    "    return df\n",
    "\n",
    "# Add features to both datasets\n",
    "df_train = add_features(df_train)\n",
    "df_test = add_features(df_test)"
   ]
  },
  {
   "cell_type": "markdown",
   "id": "ce90d996-29bc-48c2-8da8-be6472a66166",
   "metadata": {},
   "source": [
    "**Explainability**\n",
    "\n",
    "Use feature importance to understand the model."
   ]
  },
  {
   "cell_type": "code",
   "execution_count": 40,
   "id": "973e4ec9-3222-436e-a948-cc29fa18ac87",
   "metadata": {},
   "outputs": [
    {
     "data": {
      "image/png": "[encoded data removed]",
      "text/plain": [
       "<Figure size 1000x600 with 1 Axes>"
      ]
     },
     "metadata": {},
     "output_type": "display_data"
    }
   ],
   "source": [
    "from sklearn.feature_extraction.text import TfidfVectorizer\n",
    "from sklearn.ensemble import RandomForestClassifier\n",
    "\n",
    "# Vectorize text data\n",
    "tfidf = TfidfVectorizer(max_features=5000)\n",
    "X_train_text = tfidf.fit_transform(df_train['cleaned_text'])\n",
    "X_test_text = tfidf.transform(df_test['cleaned_text'])\n",
    "\n",
    "# Convert TF-IDF matrix to DataFrame with string column names\n",
    "X_train_text_df = pd.DataFrame(X_train_text.toarray(), columns=[str(i) for i in range(X_train_text.shape[1])])\n",
    "X_test_text_df = pd.DataFrame(X_test_text.toarray(), columns=[str(i) for i in range(X_test_text.shape[1])])\n",
    "\n",
    "# Add additional features\n",
    "additional_features_train = df_train[['word_count', 'has_hashtag', 'has_mention', 'uppercase_count', 'sentiment']].reset_index(drop=True)\n",
    "additional_features_test = df_test[['word_count', 'has_hashtag', 'has_mention', 'uppercase_count', 'sentiment']].reset_index(drop=True)\n",
    "\n",
    "# Combine text and additional features\n",
    "X_train = pd.concat([X_train_text_df, additional_features_train], axis=1)\n",
    "X_test = pd.concat([X_test_text_df, additional_features_test], axis=1)\n",
    "\n",
    "# Ensure all column names are strings\n",
    "X_train.columns = X_train.columns.astype(str)\n",
    "X_test.columns = X_test.columns.astype(str)\n",
    "\n",
    "# Train Random Forest model\n",
    "model = RandomForestClassifier(random_state=42)\n",
    "model.fit(X_train, df_train['target'])\n",
    "\n",
    "# Get feature importances\n",
    "feature_importances = model.feature_importances_\n",
    "\n",
    "# Combine TF-IDF and additional feature names\n",
    "feature_names = [f'tf-idf_{i}' for i in range(X_train_text.shape[1])] + ['word_count', 'has_hashtag', 'has_mention', 'uppercase_count', 'sentiment']\n",
    "\n",
    "# Get the indices of the top 10 important features\n",
    "sorted_indices = np.argsort(feature_importances)[-10:]\n",
    "\n",
    "# Plot the top 10 feature importances\n",
    "plt.figure(figsize=(10, 6))\n",
    "plt.barh([feature_names[i] for i in sorted_indices], feature_importances[sorted_indices])\n",
    "plt.xlabel(\"Feature Importance\")\n",
    "plt.ylabel(\"Features\")\n",
    "plt.title(\"Top 10 Feature Importances\")\n",
    "plt.show()"
   ]
  },
  {
   "cell_type": "markdown",
   "id": "e7c370ac-0829-46dd-a10d-26361e24f0b1",
   "metadata": {},
   "source": [
    "**Save the data**"
   ]
  },
  {
   "cell_type": "code",
   "execution_count": 102,
   "id": "192c5c00-3ae8-4407-8f69-e94c542e2ede",
   "metadata": {},
   "outputs": [
    {
     "name": "stdout",
     "output_type": "stream",
     "text": [
      "Training data saved to train_processed.csv\n",
      "Testing data saved to test_processed.csv\n"
     ]
    }
   ],
   "source": [
    "# Save preprocessed training data\n",
    "train_output_path = \"train_processed.csv\"\n",
    "df_train.to_csv(train_output_path, index=False)\n",
    "print(f\"Training data saved to {train_output_path}\")\n",
    "\n",
    "# Save preprocessed testing data\n",
    "test_output_path = \"test_processed.csv\"\n",
    "df_test.to_csv(test_output_path, index=False)\n",
    "print(f\"Testing data saved to {test_output_path}\")"
   ]
  },
  {
   "cell_type": "markdown",
   "id": "35d09008-ecc8-4321-a8b3-d09d5c9573ca",
   "metadata": {},
   "source": [
    "# Step 4: Model Building"
   ]
  },
  {
   "cell_type": "markdown",
   "id": "137111b5-caeb-48c8-8fec-3909508b9321",
   "metadata": {},
   "source": [
    "**Logistics Regression Model**"
   ]
  },
  {
   "cell_type": "code",
   "execution_count": 43,
   "id": "4e6c4060-deaa-4461-a470-94c4065595fe",
   "metadata": {},
   "outputs": [
    {
     "name": "stdout",
     "output_type": "stream",
     "text": [
      "Validation Accuracy: 0.8003939592908733\n",
      "Classification Report:\n",
      "               precision    recall  f1-score   support\n",
      "\n",
      "           0       0.80      0.88      0.83       874\n",
      "           1       0.81      0.70      0.75       649\n",
      "\n",
      "    accuracy                           0.80      1523\n",
      "   macro avg       0.80      0.79      0.79      1523\n",
      "weighted avg       0.80      0.80      0.80      1523\n",
      "\n"
     ]
    }
   ],
   "source": [
    "from sklearn.model_selection import train_test_split\n",
    "from sklearn.linear_model import LogisticRegression\n",
    "from sklearn.metrics import accuracy_score, classification_report, f1_score\n",
    "import scipy.sparse as sp\n",
    "\n",
    "# Vectorize text with TF-IDF\n",
    "tfidf = TfidfVectorizer(max_features=5000)\n",
    "X_train_tfidf = tfidf.fit_transform(df_train['cleaned_text'])\n",
    "X_test_tfidf = tfidf.transform(df_test['cleaned_text'])\n",
    "\n",
    "# Combine TF-IDF with other features\n",
    "X_train = sp.hstack([\n",
    "    X_train_tfidf,\n",
    "    df_train[['word_count', 'has_hashtag', 'has_mention', 'uppercase_count', 'sentiment']].values\n",
    "])\n",
    "y_train = df_train['target']\n",
    "\n",
    "# Split data for validation\n",
    "X_train_split, X_val, y_train_split, y_val = train_test_split(\n",
    "    X_train, y_train, test_size=0.2, random_state=42\n",
    ")\n",
    "\n",
    "# Train a Logistic Regression model\n",
    "model = LogisticRegression(random_state=42, max_iter=1000)\n",
    "model.fit(X_train_split, y_train_split)\n",
    "\n",
    "# Evaluate the model\n",
    "y_pred_lr = model.predict(X_val)\n",
    "print(\"Validation Accuracy:\", accuracy_score(y_val, y_pred_lr))\n",
    "print(\"Classification Report:\\n\", classification_report(y_val, y_pred_lr))"
   ]
  },
  {
   "cell_type": "markdown",
   "id": "eb46a72e-e63a-4d4f-a2bb-bf2f19754017",
   "metadata": {},
   "source": [
    "**Random Forest Model**"
   ]
  },
  {
   "cell_type": "code",
   "execution_count": 45,
   "id": "1f0b7fc1-bb77-4b75-813e-0a1fe65f4135",
   "metadata": {},
   "outputs": [
    {
     "name": "stdout",
     "output_type": "stream",
     "text": [
      "Validation Accuracy: 0.7793827971109653\n",
      "Classification Report:\n",
      "               precision    recall  f1-score   support\n",
      "\n",
      "           0       0.76      0.89      0.82       874\n",
      "           1       0.81      0.63      0.71       649\n",
      "\n",
      "    accuracy                           0.78      1523\n",
      "   macro avg       0.79      0.76      0.77      1523\n",
      "weighted avg       0.78      0.78      0.77      1523\n",
      "\n"
     ]
    }
   ],
   "source": [
    "# Train a RandomForest model\n",
    "model = RandomForestClassifier(random_state=42, n_estimators=100)\n",
    "model.fit(X_train_split, y_train_split)\n",
    "\n",
    "# Evaluate the model\n",
    "y_pred_rf = model.predict(X_val)\n",
    "print(\"Validation Accuracy:\", accuracy_score(y_val, y_pred_rf))\n",
    "print(\"Classification Report:\\n\", classification_report(y_val, y_pred_rf))"
   ]
  },
  {
   "cell_type": "markdown",
   "id": "1336771f-949b-4d17-ae03-3acde9c8165a",
   "metadata": {},
   "source": [
    "**Support Vector Machines (SVM)**"
   ]
  },
  {
   "cell_type": "code",
   "execution_count": 47,
   "id": "a80f8c64-b063-46ee-b293-94d0421cbd55",
   "metadata": {
    "scrolled": true
   },
   "outputs": [
    {
     "name": "stderr",
     "output_type": "stream",
     "text": [
      "C:\\Users\\ASUS\\anaconda3\\envs\\MyEnvironment\\Lib\\site-packages\\sklearn\\svm\\_base.py:1235: ConvergenceWarning: Liblinear failed to converge, increase the number of iterations.\n",
      "  warnings.warn(\n",
      "C:\\Users\\ASUS\\anaconda3\\envs\\MyEnvironment\\Lib\\site-packages\\sklearn\\svm\\_base.py:1235: ConvergenceWarning: Liblinear failed to converge, increase the number of iterations.\n",
      "  warnings.warn(\n",
      "C:\\Users\\ASUS\\anaconda3\\envs\\MyEnvironment\\Lib\\site-packages\\sklearn\\svm\\_base.py:1235: ConvergenceWarning: Liblinear failed to converge, increase the number of iterations.\n",
      "  warnings.warn(\n",
      "C:\\Users\\ASUS\\anaconda3\\envs\\MyEnvironment\\Lib\\site-packages\\sklearn\\svm\\_base.py:1235: ConvergenceWarning: Liblinear failed to converge, increase the number of iterations.\n",
      "  warnings.warn(\n"
     ]
    },
    {
     "name": "stdout",
     "output_type": "stream",
     "text": [
      "SVC Validation Accuracy: 0.7866053841103086\n",
      "SVC Classification Report:\n",
      "               precision    recall  f1-score   support\n",
      "\n",
      "           0       0.79      0.85      0.82       874\n",
      "           1       0.78      0.70      0.74       649\n",
      "\n",
      "    accuracy                           0.79      1523\n",
      "   macro avg       0.79      0.78      0.78      1523\n",
      "weighted avg       0.79      0.79      0.78      1523\n",
      "\n"
     ]
    },
    {
     "name": "stderr",
     "output_type": "stream",
     "text": [
      "C:\\Users\\ASUS\\anaconda3\\envs\\MyEnvironment\\Lib\\site-packages\\sklearn\\svm\\_base.py:1235: ConvergenceWarning: Liblinear failed to converge, increase the number of iterations.\n",
      "  warnings.warn(\n"
     ]
    }
   ],
   "source": [
    "from sklearn.svm import LinearSVC\n",
    "from sklearn.calibration import CalibratedClassifierCV\n",
    "from sklearn.metrics import accuracy_score, classification_report\n",
    "\n",
    "# Train LinearSVC model without probability\n",
    "svc_model = LinearSVC(random_state=42)\n",
    "svc_model.fit(X_train_split, y_train_split)\n",
    "\n",
    "# Calibrate the model for probability estimates\n",
    "calibrated_model = CalibratedClassifierCV(svc_model, method='sigmoid')\n",
    "calibrated_model.fit(X_train_split, y_train_split)\n",
    "\n",
    "# Predict and evaluate\n",
    "y_pred_svc = calibrated_model.predict(X_val)\n",
    "\n",
    "print(\"SVC Validation Accuracy:\", accuracy_score(y_val, y_pred_svc))\n",
    "print(\"SVC Classification Report:\\n\", classification_report(y_val, y_pred_svc))\n"
   ]
  },
  {
   "cell_type": "markdown",
   "id": "3d142486-ac4e-4c38-8d9f-a0f46b3206cc",
   "metadata": {},
   "source": [
    "**XGBoost Model**"
   ]
  },
  {
   "cell_type": "code",
   "execution_count": 49,
   "id": "97f073cb-9e80-4da4-8133-bd0e41ad8dde",
   "metadata": {},
   "outputs": [
    {
     "name": "stderr",
     "output_type": "stream",
     "text": [
      "C:\\Users\\ASUS\\anaconda3\\envs\\MyEnvironment\\Lib\\site-packages\\xgboost\\core.py:158: UserWarning: [13:20:22] WARNING: C:\\buildkite-agent\\builds\\buildkite-windows-cpu-autoscaling-group-i-0c55ff5f71b100e98-1\\xgboost\\xgboost-ci-windows\\src\\learner.cc:740: \n",
      "Parameters: { \"use_label_encoder\" } are not used.\n",
      "\n",
      "  warnings.warn(smsg, UserWarning)\n"
     ]
    },
    {
     "name": "stdout",
     "output_type": "stream",
     "text": [
      "XGBoost Validation Accuracy: 0.7616546290216678\n",
      "XGBoost Classification Report:\n",
      "               precision    recall  f1-score   support\n",
      "\n",
      "           0       0.74      0.90      0.81       874\n",
      "           1       0.81      0.58      0.67       649\n",
      "\n",
      "    accuracy                           0.76      1523\n",
      "   macro avg       0.77      0.74      0.74      1523\n",
      "weighted avg       0.77      0.76      0.75      1523\n",
      "\n"
     ]
    }
   ],
   "source": [
    "from xgboost import XGBClassifier\n",
    "\n",
    "# Train XGBoost model\n",
    "xgb_model = XGBClassifier(\n",
    "    random_state=42,\n",
    "    n_estimators=100,\n",
    "    learning_rate=0.1,\n",
    "    max_depth=6,\n",
    "    use_label_encoder=False,\n",
    "    eval_metric='logloss'\n",
    ")\n",
    "xgb_model.fit(X_train_split, y_train_split)\n",
    "\n",
    "# Predict and evaluate\n",
    "y_pred_xgb = xgb_model.predict(X_val)\n",
    "\n",
    "print(\"XGBoost Validation Accuracy:\", accuracy_score(y_val, y_pred_xgb))\n",
    "print(\"XGBoost Classification Report:\\n\", classification_report(y_val, y_pred_xgb))"
   ]
  },
  {
   "cell_type": "markdown",
   "id": "1129e769-d352-4653-8117-2ba90511a5eb",
   "metadata": {},
   "source": [
    "**Gradiant Boosting with LightGBM**"
   ]
  },
  {
   "cell_type": "code",
   "execution_count": 51,
   "id": "08491964-dcaf-4503-b886-4cf043461e38",
   "metadata": {},
   "outputs": [
    {
     "name": "stdout",
     "output_type": "stream",
     "text": [
      "[LightGBM] [Info] Number of positive: 2622, number of negative: 3468\n",
      "[LightGBM] [Info] Auto-choosing row-wise multi-threading, the overhead of testing was 0.016780 seconds.\n",
      "You can set `force_row_wise=true` to remove the overhead.\n",
      "And if memory is not enough, you can set `force_col_wise=true`.\n",
      "[LightGBM] [Info] Total Bins 8682\n",
      "[LightGBM] [Info] Number of data points in the train set: 6090, number of used features: 566\n",
      "[LightGBM] [Info] [binary:BoostFromScore]: pavg=0.430542 -> initscore=-0.279641\n",
      "[LightGBM] [Info] Start training from score -0.279641\n",
      "LightGBM Validation Accuracy: 0.7695338148391333\n",
      "LightGBM Classification Report:\n",
      "               precision    recall  f1-score   support\n",
      "\n",
      "           0       0.77      0.85      0.81       874\n",
      "           1       0.77      0.66      0.71       649\n",
      "\n",
      "    accuracy                           0.77      1523\n",
      "   macro avg       0.77      0.76      0.76      1523\n",
      "weighted avg       0.77      0.77      0.77      1523\n",
      "\n"
     ]
    }
   ],
   "source": [
    "from lightgbm import LGBMClassifier\n",
    "\n",
    "# Train LightGBM model\n",
    "lgb_model = LGBMClassifier(random_state=42)\n",
    "lgb_model.fit(X_train_split, y_train_split)\n",
    "\n",
    "# Predict and evaluate\n",
    "y_pred_lgb = lgb_model.predict(X_val)\n",
    "\n",
    "print(\"LightGBM Validation Accuracy:\", accuracy_score(y_val, y_pred_lgb))\n",
    "print(\"LightGBM Classification Report:\\n\", classification_report(y_val, y_pred_lgb))"
   ]
  },
  {
   "cell_type": "markdown",
   "id": "520fdcc7-6ed6-476a-9efb-d4ea4099119c",
   "metadata": {},
   "source": [
    "# Step 5: Model Performance Comparison"
   ]
  },
  {
   "cell_type": "code",
   "execution_count": 53,
   "id": "3f66ffe6-b3e1-4fd2-9872-84d7f528652b",
   "metadata": {},
   "outputs": [
    {
     "name": "stdout",
     "output_type": "stream",
     "text": [
      "                     Model  Accuracy  F1 Score\n",
      "0      Logistic Regression  0.800394  0.748344\n",
      "1            Random Forest  0.779383  0.707826\n",
      "2  Support Vector Machines  0.786605  0.735557\n",
      "3                  XGBoost  0.761655  0.674439\n",
      "4                 LightGBM  0.769534  0.708714\n"
     ]
    }
   ],
   "source": [
    "scores = {\n",
    "    \"Model\": [\"Logistic Regression\", \n",
    "              \"Random Forest\",\n",
    "              \"Support Vector Machines\",\n",
    "              \"XGBoost\", \n",
    "              \"LightGBM\"],    \n",
    "    \"Accuracy\": [\n",
    "        accuracy_score(y_val, y_pred_lr),\n",
    "        accuracy_score(y_val, y_pred_rf),\n",
    "        accuracy_score(y_val, y_pred_svc),\n",
    "        accuracy_score(y_val, y_pred_xgb),\n",
    "        accuracy_score(y_val, y_pred_lgb)\n",
    "    ],\n",
    "    \"F1 Score\": [\n",
    "        f1_score(y_val, y_pred_lr),\n",
    "        f1_score(y_val, y_pred_rf),\n",
    "        f1_score(y_val, y_pred_svc),\n",
    "        f1_score(y_val, y_pred_xgb),\n",
    "        f1_score(y_val, y_pred_lgb)\n",
    "    ]\n",
    "}\n",
    "\n",
    "# Convert to DataFrame for visualization\n",
    "import pandas as pd\n",
    "results_df = pd.DataFrame(scores)\n",
    "print(results_df)"
   ]
  },
  {
   "cell_type": "markdown",
   "id": "e80b3f19-a5d1-437e-88ea-03316b0b6e89",
   "metadata": {},
   "source": [
    "# Step 6: Conclusion"
   ]
  },
  {
   "cell_type": "markdown",
   "id": "dcc6ad08-5057-48f9-8b65-206e4557e1c6",
   "metadata": {},
   "source": [
    "**Accuracy Score:**\n",
    "\n",
    "Among the five models, the Logistic Regression model correctly predicted the target labels with ~80% accuracy of the test samples of tweet dataset.\n",
    "\n",
    "**F1 Score:**\n",
    "\n",
    "This score balances precision and recall, suggesting Logistic Regression model is relatively good at both detecting true positives and avoiding false positives comparing to other four models."
   ]
  },
  {
   "cell_type": "markdown",
   "id": "dddaf662-26f4-45e5-bb3f-f2be892f67a3",
   "metadata": {},
   "source": [
    "**Model Strength:**\n",
    "\n",
    "* Models like Logistic Regression excel in linear relationships, while Random Forest, XGBoost and LightGBM can capture complex, non-linear patterns.\n",
    "* SVMs are robust to high-dimensional spaces, which might contribute uniquely to the meta-model."
   ]
  },
  {
   "cell_type": "markdown",
   "id": "0b0dede2-c375-43db-88d8-d7ef09c0054f",
   "metadata": {},
   "source": [
    "**Stacking:**\n",
    "\n",
    "All though a stacked model can reduce the bias of simple models and the variance of complex models, but adding stacking layers increases model complexity."
   ]
  },
  {
   "cell_type": "markdown",
   "id": "e43c6a1b-cb93-4c77-bed9-f6997d69f034",
   "metadata": {},
   "source": [
    "**RECOMMENDATION**"
   ]
  },
  {
   "cell_type": "markdown",
   "id": "a04a041d-71ea-4ef9-b795-c41850a86fb8",
   "metadata": {},
   "source": [
    "Comparing the five models along with stacking extention, Logistic Regression is the best performer of this given sample test tweet dataset."
   ]
  },
  {
   "cell_type": "code",
   "execution_count": null,
   "id": "796e1663-342b-451c-b5fb-438a27ff53e3",
   "metadata": {},
   "outputs": [],
   "source": []
  }
 ],
 "metadata": {
  "kernelspec": {
   "display_name": "Python 3 (ipykernel)",
   "language": "python",
   "name": "python3"
  },
  "language_info": {
   "codemirror_mode": {
    "name": "ipython",
    "version": 3
   },
   "file_extension": ".py",
   "mimetype": "text/x-python",
   "name": "python",
   "nbconvert_exporter": "python",
   "pygments_lexer": "ipython3",
   "version": "3.12.7"
  }
 },
 "nbformat": 4,
 "nbformat_minor": 5
}
